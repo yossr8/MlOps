{
 "cells": [
  {
   "cell_type": "code",
   "execution_count": 6,
   "id": "e5390365",
   "metadata": {},
   "outputs": [
    {
     "name": "stdout",
     "output_type": "stream",
     "text": [
      "Response: {'message': 'Response Produced Successfully', 'data': [0, 0, 0, 0, 0]}\n"
     ]
    }
   ],
   "source": [
    "import requests\n",
    "\n",
    "data = {\n",
    "    \"columns\":[\n",
    "        \"Age\", \"SibSp\", \"Parch\", \"Fare\",\"Pclass\", \"Sex\", \"Embarked\"\n",
    "    ],\n",
    "    \"rows\":[\n",
    "        [22,1,0,7.25,3,\"male\",\"S\"],\n",
    "        [22,1,0,7.25,3,\"male\",\"S\"],\n",
    "        [22,1,0,7.25,3,\"male\",\"S\"],\n",
    "        [22,1,0,7.25,3,\"male\",\"S\"],\n",
    "        [22,1,0,7.25,3,\"male\",\"S\"],\n",
    "    ]\n",
    "}\n",
    "\n",
    "url = \"http://localhost:8000/predict\"\n",
    "\n",
    "# Send the POST request\n",
    "response = requests.post(url, json=data)\n",
    "\n",
    "# Print the response\n",
    "print(\"Response:\", response.json())"
   ]
  },
  {
   "cell_type": "code",
   "execution_count": null,
   "id": "3f0ecf98",
   "metadata": {},
   "outputs": [],
   "source": []
  }
 ],
 "metadata": {
  "kernelspec": {
   "display_name": "Python 3",
   "language": "python",
   "name": "python3"
  },
  "language_info": {
   "codemirror_mode": {
    "name": "ipython",
    "version": 3
   },
   "file_extension": ".py",
   "mimetype": "text/x-python",
   "name": "python",
   "nbconvert_exporter": "python",
   "pygments_lexer": "ipython3",
   "version": "3.11.0"
  }
 },
 "nbformat": 4,
 "nbformat_minor": 5
}
